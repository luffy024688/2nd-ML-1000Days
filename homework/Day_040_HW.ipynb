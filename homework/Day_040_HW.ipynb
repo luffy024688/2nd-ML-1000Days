{
 "cells": [
  {
   "cell_type": "markdown",
   "metadata": {},
   "source": [
    "## [作業重點]\n",
    "使用 Sklearn 中的 Lasso, Ridge 模型，來訓練各種資料集，務必了解送進去模型訓練的**資料型態**為何，也請了解模型中各項參數的意義。\n",
    "\n",
    "機器學習的模型非常多種，但要訓練的資料多半有固定的格式，確保你了解訓練資料的格式為何，這樣在應用新模型時，就能夠最快的上手開始訓練！"
   ]
  },
  {
   "cell_type": "markdown",
   "metadata": {},
   "source": [
    "## 練習時間\n",
    "試著使用 sklearn datasets 的其他資料集 (boston, ...)，來訓練自己的線性迴歸模型，並加上適當的正則話來觀察訓練情形。"
   ]
  },
  {
   "cell_type": "code",
   "execution_count": 5,
   "metadata": {},
   "outputs": [
    {
     "name": "stdout",
     "output_type": "stream",
     "text": [
      "Coefficients:  [-1.24793110e-01  4.83961673e-02  1.88111508e-02  3.08800922e+00\n",
      " -1.73655165e+01  3.60982405e+00  2.27233321e-03 -1.49381500e+00\n",
      "  3.19455416e-01 -1.27236845e-02 -9.28369630e-01  9.60925451e-03\n",
      " -5.34508193e-01]\n",
      "Mean squared error: 17.03\n"
     ]
    }
   ],
   "source": [
    "import numpy as np\n",
    "import matplotlib.pyplot as plt\n",
    "from sklearn import datasets, linear_model\n",
    "from sklearn.model_selection import train_test_split\n",
    "from sklearn.metrics import mean_squared_error, r2_score, accuracy_score\n",
    "\n",
    "## linear regression\n",
    "## get data\n",
    "diabetes = datasets.load_boston() # 讀取糖尿病資料集\n",
    "x_train, x_test, y_train, y_test = train_test_split(diabetes.data, diabetes.target, test_size=0.1, random_state=4)# 切分訓練集/測試集\n",
    "\n",
    "## Model\n",
    "regr = linear_model.LinearRegression() # 建立一個線性回歸模型\n",
    "regr.fit(x_train, y_train) # 將訓練資料丟進去模型訓練\n",
    "y_pred = regr.predict(x_test) # 將測試資料丟進模型得到預測結果\n",
    "\n",
    "## 評分\n",
    "print('Coefficients: ', regr.coef_) # 可以看回歸模型的參數值\n",
    "print(\"Mean squared error: %.2f\" % mean_squared_error(y_test, y_pred)) # 預測值與實際值的差距，使用 MSE"
   ]
  },
  {
   "cell_type": "code",
   "execution_count": 6,
   "metadata": {},
   "outputs": [
    {
     "name": "stdout",
     "output_type": "stream",
     "text": [
      "Coefficients:  [-0.07256167  0.049677   -0.          0.         -0.          0.80504721\n",
      "  0.02330318 -0.68471274  0.26857502 -0.01526236 -0.71722423  0.00834102\n",
      " -0.77160917]\n",
      "Mean squared error: 23.25\n"
     ]
    }
   ],
   "source": [
    "## Lasso Model\n",
    "regr = linear_model.Lasso() # 建立一個線性回歸模型\n",
    "regr.fit(x_train, y_train) # 將訓練資料丟進去模型訓練\n",
    "y_pred = regr.predict(x_test) # 將測試資料丟進模型得到預測結果\n",
    "\n",
    "## 評分\n",
    "print('Coefficients: ', regr.coef_) # 可以看回歸模型的參數值\n",
    "print(\"Mean squared error: %.2f\" % mean_squared_error(y_test, y_pred)) # 預測值與實際值的差距，使用 MSE"
   ]
  },
  {
   "cell_type": "code",
   "execution_count": 7,
   "metadata": {},
   "outputs": [
    {
     "name": "stdout",
     "output_type": "stream",
     "text": [
      "Coefficients:  [-1.21252383e-01  4.95144936e-02 -1.12401718e-02  2.89351315e+00\n",
      " -1.00608832e+01  3.66023694e+00 -4.37201416e-03 -1.38975681e+00\n",
      "  3.01632305e-01 -1.32209825e-02 -8.52842040e-01  9.96596180e-03\n",
      " -5.44637977e-01]\n",
      "Mean squared error: 17.34\n"
     ]
    }
   ],
   "source": [
    "## Lasso Model\n",
    "regr = linear_model.Ridge() # 建立一個線性回歸模型\n",
    "regr.fit(x_train, y_train) # 將訓練資料丟進去模型訓練\n",
    "y_pred = regr.predict(x_test) # 將測試資料丟進模型得到預測結果\n",
    "\n",
    "## 評分\n",
    "print('Coefficients: ', regr.coef_) # 可以看回歸模型的參數值\n",
    "print(\"Mean squared error: %.2f\" % mean_squared_error(y_test, y_pred)) # 預測值與實際值的差距，使用 MSE"
   ]
  },
  {
   "cell_type": "code",
   "execution_count": null,
   "metadata": {},
   "outputs": [],
   "source": []
  }
 ],
 "metadata": {
  "kernelspec": {
   "display_name": "Python 3",
   "language": "python",
   "name": "python3"
  },
  "language_info": {
   "codemirror_mode": {
    "name": "ipython",
    "version": 3
   },
   "file_extension": ".py",
   "mimetype": "text/x-python",
   "name": "python",
   "nbconvert_exporter": "python",
   "pygments_lexer": "ipython3",
   "version": "3.6.5"
  }
 },
 "nbformat": 4,
 "nbformat_minor": 2
}
