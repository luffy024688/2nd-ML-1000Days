{
 "cells": [
  {
   "cell_type": "markdown",
   "metadata": {},
   "source": [
    "### 作業ㄧ\n",
    "url:https://www.kaggle.com/c/house-prices-advanced-regression-techniques/overview\n",
    "\n",
    "1.  資料為何重要：發現更多會影響房價的變數\n",
    "2. 資料從何而來： Dean De Cock為了教資料課學 搜集的資料\n",
    "原始資料：The data came to me directly from the Assessor’s Office in the form of a data dump from their records system. The initial Excel file contained 113 variables describing 3970 property sales that had occurred in Ames, Iowa between 2006 and 2010.\n",
    "After removal of these extraneous variables, 80 variables remained that were directly related to property sales. \n",
    "3. 資料型態：結構化資料（表格）\n",
    "4. 評估方法：RMSE\n",
    "Root-Mean-Squared-Error (RMSE) between the logarithm of the predicted value and the logarithm of the observed sales price. (Taking logs means that errors in predicting expensive houses and cheap houses will affect the result equally.)"
   ]
  },
  {
   "cell_type": "markdown",
   "metadata": {},
   "source": [
    "### 作業二\n",
    "1. 核心問題為何：在給定的時間下，最大化利潤\n",
    "2. 搜集資料：車子裡的系統\n",
    "3. 結構化資料\n",
    "4. 載客轉換率"
   ]
  },
  {
   "cell_type": "markdown",
   "metadata": {},
   "source": [
    "### 作業三"
   ]
  },
  {
   "cell_type": "code",
   "execution_count": 3,
   "metadata": {},
   "outputs": [],
   "source": [
    "def mean_square_error(y, yp):\n",
    "    mse = MSE = sum((y - yp)**2) / len(y)\n",
    "    return mse"
   ]
  }
 ],
 "metadata": {
  "kernelspec": {
   "display_name": "Python 3",
   "language": "python",
   "name": "python3"
  },
  "language_info": {
   "codemirror_mode": {
    "name": "ipython",
    "version": 3
   },
   "file_extension": ".py",
   "mimetype": "text/x-python",
   "name": "python",
   "nbconvert_exporter": "python",
   "pygments_lexer": "ipython3",
   "version": "3.6.5"
  }
 },
 "nbformat": 4,
 "nbformat_minor": 2
}
