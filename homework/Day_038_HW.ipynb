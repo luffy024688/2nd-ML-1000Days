{
 "cells": [
  {
   "cell_type": "markdown",
   "metadata": {},
   "source": [
    "## [作業重點]\n",
    "使用 Sklearn 中的線性迴歸模型，來訓練各種資料集，務必了解送進去模型訓練的**資料型態**為何，也請了解模型中各項參數的意義"
   ]
  },
  {
   "cell_type": "markdown",
   "metadata": {},
   "source": [
    "## 作業\n",
    "試著使用 sklearn datasets 的其他資料集 (wine, boston, ...)，來訓練自己的線性迴歸模型。"
   ]
  },
  {
   "cell_type": "markdown",
   "metadata": {},
   "source": [
    "### HINT: 注意 label 的型態，確定資料集的目標是分類還是回歸，在使用正確的模型訓練！"
   ]
  },
  {
   "cell_type": "code",
   "execution_count": 2,
   "metadata": {},
   "outputs": [],
   "source": [
    "import numpy as np\n",
    "import matplotlib.pyplot as plt\n",
    "from sklearn import datasets, linear_model\n",
    "from sklearn.model_selection import train_test_split\n",
    "from sklearn.metrics import mean_squared_error, r2_score, accuracy_score"
   ]
  },
  {
   "cell_type": "code",
   "execution_count": 5,
   "metadata": {},
   "outputs": [
    {
     "name": "stdout",
     "output_type": "stream",
     "text": [
      "Coefficients:  [-1.24793110e-01  4.83961673e-02  1.88111508e-02  3.08800922e+00\n",
      " -1.73655165e+01  3.60982405e+00  2.27233321e-03 -1.49381500e+00\n",
      "  3.19455416e-01 -1.27236845e-02 -9.28369630e-01  9.60925451e-03\n",
      " -5.34508193e-01]\n",
      "Mean squared error: 17.03\n"
     ]
    }
   ],
   "source": [
    "## linear regression\n",
    "## get data\n",
    "diabetes = datasets.load_boston() \n",
    "#X = diabetes.data[:, np.newaxis, 3];print(\"Data shape: \", X.shape) # 為方便視覺化，我們只使用資料集中的 1 個 feature (column)\n",
    "x_train, x_test, y_train, y_test = train_test_split(diabetes.data, diabetes.target, test_size=0.1, random_state=4)# 切分訓練集/測試集\n",
    "\n",
    "## Model\n",
    "regr = linear_model.LinearRegression() # 建立一個線性回歸模型\n",
    "regr.fit(x_train, y_train) # 將訓練資料丟進去模型訓練\n",
    "y_pred = regr.predict(x_test) # 將測試資料丟進模型得到預測結果\n",
    "\n",
    "## 評分\n",
    "print('Coefficients: ', regr.coef_) # 可以看回歸模型的參數值\n",
    "print(\"Mean squared error: %.2f\" % mean_squared_error(y_test, y_pred)) # 預測值與實際值的差距，使用 MSE"
   ]
  },
  {
   "cell_type": "code",
   "execution_count": 28,
   "metadata": {},
   "outputs": [
    {
     "name": "stdout",
     "output_type": "stream",
     "text": [
      "Accuracy:  0.9444444444444444\n"
     ]
    }
   ],
   "source": [
    "## logustic regression\n",
    "# get data\n",
    "iris = datasets.load_wine()\n",
    "x_train, x_test, y_train, y_test = train_test_split(iris.data, iris.target, test_size=0.1, random_state=4)  # 切分訓練集/測試集\n",
    "\n",
    "#Model\n",
    "logreg = linear_model.LogisticRegression() # 建立模型\n",
    "logreg.fit(x_train, y_train)# 訓練模型\n",
    "y_pred = logreg.predict(x_test)# 預測測試集\n",
    "#評分\n",
    "acc = accuracy_score(y_test, y_pred);print(\"Accuracy: \", acc)"
   ]
  }
 ],
 "metadata": {
  "kernelspec": {
   "display_name": "Python 3",
   "language": "python",
   "name": "python3"
  },
  "language_info": {
   "codemirror_mode": {
    "name": "ipython",
    "version": 3
   },
   "file_extension": ".py",
   "mimetype": "text/x-python",
   "name": "python",
   "nbconvert_exporter": "python",
   "pygments_lexer": "ipython3",
   "version": "3.6.5"
  }
 },
 "nbformat": 4,
 "nbformat_minor": 2
}
